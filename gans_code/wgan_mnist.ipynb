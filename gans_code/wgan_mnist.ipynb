{
  "cells": [
    {
      "cell_type": "code",
      "execution_count": null,
      "metadata": {
        "id": "3UOtco0Ziy1M"
      },
      "outputs": [],
      "source": [
        "# 1. Imports\n",
        "import torch, torchvision, os, PIL, pdb\n",
        "import torch.nn as nn\n",
        "from torchvision import transforms, datasets\n",
        "from torch.utils.data import Dataset, DataLoader\n",
        "import matplotlib.pyplot as plt\n",
        "from torchvision.utils import make_grid\n",
        "from tqdm import tqdm\n",
        "import numpy as np\n",
        "from PIL import Image\n",
        "import pandas as pd\n",
        "import gdown, zipfile\n",
        "from math import ceil"
      ]
    },
    {
      "attachments": {},
      "cell_type": "markdown",
      "metadata": {
        "id": "R6t7FH1pqfN2"
      },
      "source": [
        "Hyperparameters Setting"
      ]
    },
    {
      "cell_type": "code",
      "execution_count": null,
      "metadata": {
        "id": "ToEOD5lJqW6f"
      },
      "outputs": [],
      "source": [
        "# 2. Helper functions\n",
        "\n",
        "def getDevice():\n",
        "  if torch.cuda.is_available():\n",
        "    device = 'cuda'\n",
        "  else:\n",
        "    device = 'cpu'\n",
        "  return device\n",
        "\n",
        "def denorm(img_tensors):\n",
        "    \"Denormalize image tensor with specified mean and std\"\n",
        "    return img_tensors * stats[1][0] + stats[0][0]\n",
        "\n",
        "def show(tensor, num):\n",
        "  data = tensor.detach().cpu()\n",
        "  #grid = make_grid(denorm(data[:num]), nrow=4).permute(1,2,0)\n",
        "  grid = make_grid(data[:num], nrow=4).permute(1,2,0)\n",
        "  plt.imshow(grid) #.clip(0,1)\n",
        "  plt.show()"
      ]
    },
    {
      "cell_type": "code",
      "execution_count": null,
      "metadata": {
        "id": "DfILxMWSqfib"
      },
      "outputs": [],
      "source": [
        "device = getDevice()\n",
        "noise_dim = 128\n",
        "#label_dim = 2\n",
        "batch_size = 256\n",
        "img_size = 64\n",
        "img_dim = (img_size, img_size)\n",
        "img_ch = 1 # greyscale\n",
        "#lr = 1e-4\n",
        "epochs = 100\n",
        "save_step = 900\n",
        "#embed_size = 100\n",
        "\n",
        "\n",
        "# Hyperparameters\n",
        "lr = 0.00025\n",
        "\n",
        "stats = (0.1307,), (0.3081,)"
      ]
    },
    {
      "attachments": {},
      "cell_type": "markdown",
      "metadata": {
        "id": "ZcksGnzQqWmu"
      },
      "source": [
        "Helper functions & misc"
      ]
    },
    {
      "attachments": {},
      "cell_type": "markdown",
      "metadata": {
        "id": "RQlo_av0jCBo"
      },
      "source": [
        "Dataset download and initialization"
      ]
    },
    {
      "cell_type": "code",
      "execution_count": null,
      "metadata": {
        "id": "-EXCvHc0pmdD"
      },
      "outputs": [],
      "source": [
        "# 1. Dataset Class\n",
        "class MyDataset(Dataset):\n",
        "  def __init__(self,remove_list, transform = None, train=True):\n",
        "    self.mnist = datasets.MNIST(root='./data',\n",
        "                                download=True,\n",
        "                                train=train,\n",
        "                                transform=transform)\n",
        "    self.data = self.mnist.data\n",
        "    self.targets = self.mnist.targets\n",
        "    self.transform = transform\n",
        "    mask = np.ones(len(self.data), dtype=bool)\n",
        "    mask[remove_list] = False\n",
        "\n",
        "    self.data = self.data[mask]\n",
        "    self.targets = self.targets[mask]\n",
        "\n",
        "  def __getitem__(self, index):\n",
        "    data, target = self.data[index], self.targets[index]\n",
        "    data = self.transform(np.array(data))\n",
        "    return data, target\n",
        "\n",
        "  def __len__(self):\n",
        "    return len(self.data)"
      ]
    },
    {
      "cell_type": "code",
      "execution_count": null,
      "metadata": {
        "colab": {
          "base_uri": "https://localhost:8080/"
        },
        "id": "oS9zew5Xi-JZ",
        "outputId": "1f1c5a45-6d39-40a2-ad03-90933890d7e9"
      },
      "outputs": [
        {
          "name": "stdout",
          "output_type": "stream",
          "text": [
            "Downloading http://yann.lecun.com/exdb/mnist/train-images-idx3-ubyte.gz\n",
            "Downloading http://yann.lecun.com/exdb/mnist/train-images-idx3-ubyte.gz to data/MNIST/raw/train-images-idx3-ubyte.gz\n"
          ]
        },
        {
          "name": "stderr",
          "output_type": "stream",
          "text": [
            "100%|██████████| 9912422/9912422 [00:00<00:00, 291428069.45it/s]"
          ]
        },
        {
          "name": "stdout",
          "output_type": "stream",
          "text": [
            "Extracting data/MNIST/raw/train-images-idx3-ubyte.gz to data/MNIST/raw\n"
          ]
        },
        {
          "name": "stderr",
          "output_type": "stream",
          "text": [
            "\n"
          ]
        },
        {
          "name": "stdout",
          "output_type": "stream",
          "text": [
            "\n",
            "Downloading http://yann.lecun.com/exdb/mnist/train-labels-idx1-ubyte.gz\n",
            "Downloading http://yann.lecun.com/exdb/mnist/train-labels-idx1-ubyte.gz to data/MNIST/raw/train-labels-idx1-ubyte.gz\n"
          ]
        },
        {
          "name": "stderr",
          "output_type": "stream",
          "text": [
            "100%|██████████| 28881/28881 [00:00<00:00, 115919324.23it/s]\n"
          ]
        },
        {
          "name": "stdout",
          "output_type": "stream",
          "text": [
            "Extracting data/MNIST/raw/train-labels-idx1-ubyte.gz to data/MNIST/raw\n",
            "\n",
            "Downloading http://yann.lecun.com/exdb/mnist/t10k-images-idx3-ubyte.gz\n",
            "Downloading http://yann.lecun.com/exdb/mnist/t10k-images-idx3-ubyte.gz to data/MNIST/raw/t10k-images-idx3-ubyte.gz\n"
          ]
        },
        {
          "name": "stderr",
          "output_type": "stream",
          "text": [
            "100%|██████████| 1648877/1648877 [00:00<00:00, 180256246.16it/s]"
          ]
        },
        {
          "name": "stdout",
          "output_type": "stream",
          "text": [
            "Extracting data/MNIST/raw/t10k-images-idx3-ubyte.gz to data/MNIST/raw\n"
          ]
        },
        {
          "name": "stderr",
          "output_type": "stream",
          "text": [
            "\n"
          ]
        },
        {
          "name": "stdout",
          "output_type": "stream",
          "text": [
            "\n",
            "Downloading http://yann.lecun.com/exdb/mnist/t10k-labels-idx1-ubyte.gz\n",
            "Downloading http://yann.lecun.com/exdb/mnist/t10k-labels-idx1-ubyte.gz to data/MNIST/raw/t10k-labels-idx1-ubyte.gz\n"
          ]
        },
        {
          "name": "stderr",
          "output_type": "stream",
          "text": [
            "100%|██████████| 4542/4542 [00:00<00:00, 22229321.78it/s]\n"
          ]
        },
        {
          "name": "stdout",
          "output_type": "stream",
          "text": [
            "Extracting data/MNIST/raw/t10k-labels-idx1-ubyte.gz to data/MNIST/raw\n",
            "\n"
          ]
        }
      ],
      "source": [
        "mean_gray = 0.1307\n",
        "stdd_gray = 0.3081\n",
        "\n",
        "transformation = transforms.Compose([\n",
        "    transforms.ToTensor(),\n",
        "    transforms.Resize([img_size, img_size]),\n",
        "    #transforms.Normalize((mean_gray,),(stdd_gray,))\n",
        "])\n",
        "\n",
        "train_dataset = datasets.MNIST(\n",
        "    root = 'data',\n",
        "    download = True,\n",
        "    train = True,\n",
        "    transform = transformation\n",
        ")\n",
        "\n",
        "test_dataset = datasets.MNIST(\n",
        "    root = 'data',\n",
        "    train = False,\n",
        "    transform = transformation\n",
        ")"
      ]
    },
    {
      "cell_type": "code",
      "execution_count": null,
      "metadata": {
        "colab": {
          "base_uri": "https://localhost:8080/"
        },
        "id": "r8X0M1z_o-qw",
        "outputId": "1f5630e7-b687-4018-e5e5-852105d853e2"
      },
      "outputs": [
        {
          "name": "stdout",
          "output_type": "stream",
          "text": [
            "torch.Size([54579])\n",
            "5421\n",
            "num 5367\n",
            "remove_idx.shape torch.Size([54])\n"
          ]
        }
      ],
      "source": [
        "# remove from mnist all non fives\n",
        "rem_idx_one = ((train_dataset.targets != 5).nonzero(as_tuple=True)[0])\n",
        "print(rem_idx_one.shape)\n",
        "\n",
        "#### USe Only when data augmenting\n",
        "transformation3 = transforms.Compose([\n",
        "    transforms.ToTensor(),\n",
        "    transforms.RandomRotation(10),\n",
        "    transforms.RandomResizedCrop(img_size, scale=(0.85, 1.0), ratio=(0.75, 1.3333333333333333)),\n",
        "    transforms.Resize([img_size, img_size]),\n",
        "])\n",
        "\n",
        "traindat_fives = MyDataset(rem_idx_one, transformation3, True)\n",
        "print(len(traindat_fives))\n",
        "\n",
        "# create reduced subset\n",
        "\n",
        "remove_idx = ((traindat_fives.targets == 5).nonzero(as_tuple=True)[0])\n",
        "num = remove_idx.shape[0]\n",
        "num = ceil(0.99 * num)\n",
        "print(f'num {num}')\n",
        "\n",
        "to_remove = remove_idx[:num]\n",
        "to_keep = remove_idx[num:]\n",
        "print(f'remove_idx.shape {to_keep.shape}')\n",
        "\n",
        "trainset_1 = torch.utils.data.Subset(traindat_fives, to_keep)"
      ]
    },
    {
      "cell_type": "code",
      "execution_count": null,
      "metadata": {
        "colab": {
          "base_uri": "https://localhost:8080/",
          "height": 281
        },
        "id": "hXRyfNU_seb6",
        "outputId": "985af384-46b3-42dc-d5de-9afd56474434"
      },
      "outputs": [
        {
          "name": "stdout",
          "output_type": "stream",
          "text": [
            "2\n",
            "54\n"
          ]
        },
        {
          "name": "stderr",
          "output_type": "stream",
          "text": [
            "/usr/local/lib/python3.10/dist-packages/torchvision/transforms/functional.py:1603: UserWarning: The default value of the antialias parameter of all the resizing transforms (Resize(), RandomResizedCrop(), etc.) will change from None to True in v0.17, in order to be consistent across the PIL and Tensor backends. To suppress this warning, directly pass antialias=True (recommended, future default), antialias=None (current default, which means False for Tensors and True for PIL), or antialias=False (only works on Tensors - PIL will still use antialiasing). This also applies if you are using the inference transforms from the models weights: update the call to weights.transforms(antialias=True).\n",
            "  warnings.warn(\n"
          ]
        },
        {
          "data": {
            "image/png": "[encoded data removed]",
            "text/plain": [
              "<Figure size 640x480 with 1 Axes>"
            ]
          },
          "metadata": {},
          "output_type": "display_data"
        }
      ],
      "source": [
        "# 4. Dataset Initialization\n",
        "batch_size = 32\n",
        "\n",
        "trainloader = DataLoader(\n",
        "    #dataset = train_dataset,\n",
        "    dataset = trainset_1,\n",
        "    batch_size = batch_size,\n",
        "    shuffle = True\n",
        ")\n",
        "\n",
        "print(len(trainloader))\n",
        "print(len(trainset_1))\n",
        "# dataset visualization\n",
        "ha, labels = next(iter(trainloader))\n",
        "show(ha, 4)"
      ]
    },
    {
      "attachments": {},
      "cell_type": "markdown",
      "metadata": {
        "id": "zerZsM4zqGVu"
      },
      "source": [
        "GAN declaration & architecture"
      ]
    },
    {
      "cell_type": "code",
      "execution_count": null,
      "metadata": {
        "id": "0qB5GRInqF7l"
      },
      "outputs": [],
      "source": [
        "# a. Generator model\n",
        "\n",
        "def genBlock(inp, out, f, s, p):\n",
        "  return nn.Sequential(\n",
        "      nn.ConvTranspose2d(inp, out, f, s, p),\n",
        "      nn.BatchNorm2d(out),\n",
        "      nn.ReLU(True)\n",
        "  )\n",
        "\n",
        "class Generator(nn.Module):\n",
        "  def __init__(self, z_dim=noise_dim, d_dim=16):\n",
        "    super(Generator, self).__init__()\n",
        "    self.z_dim = z_dim\n",
        "    #self.embed_size = embed_size\n",
        "    #self.labels_dim = labels_dim\n",
        "    #self.embed = nn.Embedding(labels_dim, embed_size)\n",
        "\n",
        "    self.gen = nn.Sequential(\n",
        "        genBlock(z_dim, d_dim*32, 4, 1, 1), # 4x4 (512)  (4, 1, 0)\n",
        "        #genBlock(z_dim, d_dim*32, 4, 1, 0),\n",
        "        genBlock(d_dim*32, d_dim*16, 4, 2, 1), # 8x8 (256)\n",
        "        genBlock(d_dim*16, d_dim*8, 4, 2, 1), # 16x16 (128)\n",
        "        genBlock(d_dim*8, d_dim*4, 4, 2, 1), # 32x32 (64)\n",
        "        genBlock(d_dim*4, d_dim*2, 4, 2, 1), # 64x64 (32)\n",
        "        nn.ConvTranspose2d(d_dim*2, img_ch, 4, 2, 1), # 128x128 (3)\n",
        "        #genBlock(d_dim*2, img_ch,  4, 2, 1), # 4, 2, 1\n",
        "        nn.Tanh() # [-1,1]\n",
        "    )\n",
        "\n",
        "  def forward(self, noise):\n",
        "    #noise = noise.view(len(noise), self.z_dim, 1, 1) # batch_size x 200 x1 x1\n",
        "    noise = noise.unsqueeze(2).unsqueeze(3)\n",
        "    #embedding = self.embed(labels).view(-1, self.embed_size, 1, 1)\n",
        "    #noise = torch.cat([noise, embedding], dim = 1)\n",
        "    return self.gen(noise)\n",
        "\n",
        "# noise generator\n",
        "def gen_noise(batch_size, z_dim, device):\n",
        "  device = getDevice()\n",
        "  return torch.randn(batch_size, z_dim, device=device)  # batch_size x 200 x1x1\n",
        "\n",
        "# Fake label generator\n",
        "def gen_labels(batch_size, labels_num, device):\n",
        "  #target = torch.randint(0, labels_num, (batch_size,), device = device)\n",
        "  target = torch.randint(1, 2, (batch_size,), device = device)      #### Always 1 as label\n",
        "\n",
        "  return target"
      ]
    },
    {
      "cell_type": "code",
      "execution_count": null,
      "metadata": {
        "colab": {
          "base_uri": "https://localhost:8080/"
        },
        "id": "tmNU3uCXrw6K",
        "outputId": "48421eb2-6402-4a6e-fbdf-5d24854a8faf"
      },
      "outputs": [
        {
          "data": {
            "text/plain": [
              "torch.Size([256, 1, 64, 64])"
            ]
          },
          "execution_count": 34,
          "metadata": {},
          "output_type": "execute_result"
        }
      ],
      "source": [
        "gen = Generator().to(device)\n",
        "noise = gen_noise(batch_size, noise_dim, device)\n",
        "#label = gen_labels(batch_size, label_dim, device)\n",
        "\n",
        "#print(noise.shape)\n",
        "#noise = noise.unsqueeze(2).unsqueeze(3)\n",
        "noise.to(device)\n",
        "#label.to(device)\n",
        "gen(noise).shape"
      ]
    },
    {
      "cell_type": "code",
      "execution_count": null,
      "metadata": {
        "id": "7mMYhn3DrNT_"
      },
      "outputs": [],
      "source": [
        "# b. Critic Model\n",
        "\n",
        "def discBlock(inp, out, f, s, p):\n",
        "  return nn.Sequential(\n",
        "      nn.Conv2d(inp, out, f, s, p),\n",
        "      nn.InstanceNorm2d(out),\n",
        "      nn.LeakyReLU(0.2, inplace=True),\n",
        "      #nn.Dropout(0.5)\n",
        "  )\n",
        "\n",
        "class Critic(nn.Module):\n",
        "  def __init__(self, img_size, d_dim=16):\n",
        "    super(Critic, self).__init__()\n",
        "    self.img_size = img_size\n",
        "    #self.labels_dim = labels_dim\n",
        "    #self.embed = nn.Embedding(labels_dim, img_size**2)\n",
        "\n",
        "    # input: b_s x 1 x 28 x 28\n",
        "    self.crit = nn.Sequential(\n",
        "        discBlock(img_ch, d_dim*2, 4, 2, 1), # 64 x 64 (16)\n",
        "        discBlock(d_dim*2, d_dim*4, 4, 2, 1), # 32 x 32 (32)\n",
        "        discBlock(d_dim*4, d_dim*8, 4, 2, 1), # 16 x 16 (64)\n",
        "        discBlock(d_dim*8, d_dim*16, 4, 2, 1), # 8 x 8 (128)\n",
        "        #discBlock(d_dim*16, d_dim*32, 4, 2, 1),\n",
        "        #nn.Conv2d(d_dim*32, 1, 4, 1, 1),\n",
        "        nn.Conv2d(d_dim*16, 1, 4, 1, 0), # 4 x 4 (256) #  4, 1, 0)\n",
        "        #nn.Conv2d(d_dim*16, 1, 4, 1, 0), # 1 x 1 (1)\n",
        "    )\n",
        "\n",
        "  def forward(self, image):\n",
        "    crit_pred = self.crit(image)                # 128 x 1 x 1 x 1\n",
        "    return crit_pred.view(len(crit_pred), -1)   # 128 x 1"
      ]
    },
    {
      "cell_type": "code",
      "execution_count": null,
      "metadata": {
        "colab": {
          "base_uri": "https://localhost:8080/"
        },
        "id": "ILvX0Sazrfgj",
        "outputId": "a236c1fd-8ede-400d-a978-b787a5d58d2f"
      },
      "outputs": [
        {
          "data": {
            "text/plain": [
              "torch.Size([32, 1])"
            ]
          },
          "execution_count": 12,
          "metadata": {},
          "output_type": "execute_result"
        }
      ],
      "source": [
        "gen = Generator().to(device)\n",
        "noise = gen_noise(batch_size, noise_dim, device)\n",
        "#label = gen_labels(batch_size, label_dim, device)\n",
        "fake = gen(noise)\n",
        "\n",
        "crit = Critic(img_size).to(device)\n",
        "crit(fake).shape"
      ]
    },
    {
      "attachments": {},
      "cell_type": "markdown",
      "metadata": {
        "id": "md2tquIcrhiJ"
      },
      "source": [
        "Begin Experiment"
      ]
    },
    {
      "cell_type": "code",
      "execution_count": null,
      "metadata": {
        "id": "jHe3jBQErhzM"
      },
      "outputs": [],
      "source": [
        "# 1. Initialize generator, critic & optimizers\n",
        "\n",
        "gen = Generator().to(device)\n",
        "gen_opt = torch.optim.Adam(gen.parameters(), lr=lr, betas=(0.5,0.9))\n",
        "\n",
        "crit = Critic(img_size).to(device)\n",
        "crit_opt = torch.optim.Adam(crit.parameters(), lr=lr, betas=(0.5,0.9))"
      ]
    },
    {
      "cell_type": "code",
      "execution_count": null,
      "metadata": {
        "id": "bLRGSlYurrwJ"
      },
      "outputs": [],
      "source": [
        "# Real/Fake labels and test Noise for visualization\n",
        "real_labels = torch.ones(batch_size, 1).int().to(device)\n",
        "fake_labels = torch.zeros(batch_size, 1).int().to(device)\n",
        "\n",
        "test_z = gen_noise(10, noise_dim, device)"
      ]
    },
    {
      "cell_type": "code",
      "execution_count": null,
      "metadata": {
        "id": "Psin58R1sM7v"
      },
      "outputs": [],
      "source": [
        "# (Optional)\n",
        "\n",
        "# save and load checkpoints\n",
        "\n",
        "#root_path='./data/'\n",
        "\n",
        "#from google.colab import drive\n",
        "#drive.mount('/content/gdrive')\n",
        "root_path='/content/drive/MyDrive/Colab/models'\n",
        "\n",
        "def save_checkpoint(name):\n",
        "  torch.save({\n",
        "      'epoch': epoch,\n",
        "      'model_state_dict': gen.state_dict(),\n",
        "      'optimizer_state_dict': gen_opt.state_dict()\n",
        "  }, f'{root_path}G-{name}.pkl')\n",
        "\n",
        "  torch.save({\n",
        "      'epoch': epoch,\n",
        "      'model_state_dict': crit.state_dict(),\n",
        "      'optimizer_state_dict': crit_opt.state_dict()\n",
        "  }, f'{root_path}C-{name}.pkl')\n",
        "\n",
        "  print('Saved checkpoint')\n",
        "\n",
        "def load_checkpoint(name):\n",
        "  checkpoint = torch.load(f'{root_path}G-{name}.pkl')\n",
        "  gen.load_state_dict(checkpoint['model_state_dict'])\n",
        "  gen_opt.load_state_dict(checkpoint['optimizer_state_dict'])\n",
        "\n",
        "  checkpoint = torch.load(f'{root_path}C-{name}.pkl')\n",
        "  crit.load_state_dict(checkpoint['model_state_dict'])\n",
        "  crit_opt.load_state_dict(checkpoint['optimizer_state_dict'])\n",
        "\n",
        "  print('Loaded checkpoint')"
      ]
    },
    {
      "cell_type": "code",
      "execution_count": null,
      "metadata": {
        "colab": {
          "base_uri": "https://localhost:8080/"
        },
        "id": "G0sv1NeCZSN0",
        "outputId": "350e2dc8-327d-4f42-9564-2bfb5cfd8270"
      },
      "outputs": [
        {
          "name": "stdout",
          "output_type": "stream",
          "text": [
            "Saved checkpoint\n"
          ]
        }
      ],
      "source": [
        "save_checkpoint('wgan_faces_64x64_100k')"
      ]
    },
    {
      "cell_type": "code",
      "execution_count": null,
      "metadata": {
        "id": "I-0bhJ4NsP8m"
      },
      "outputs": [],
      "source": [
        "# Gradient Penalty Calculation\n",
        "\n",
        "def get_gp(real, fake, crit, alpha, gamma=10):\n",
        "  mix_images = real * alpha + fake * (1-alpha) # 128 x 3 x 128 x 128\n",
        "  mix_scores = crit(mix_images) # 128 x 1\n",
        "\n",
        "  gradient = torch.autograd.grad(\n",
        "      inputs = mix_images,\n",
        "      outputs = mix_scores,\n",
        "      grad_outputs=torch.ones_like(mix_scores),\n",
        "      retain_graph=True,\n",
        "      create_graph=True,\n",
        "  )[0] # 128 x 3 x 128 x 128\n",
        "\n",
        "  gradient = gradient.view(len(gradient), -1)   # 128 x 49152\n",
        "  gradient_norm = gradient.norm(2, dim=1)\n",
        "  gp = gamma * ((gradient_norm-1)**2).mean()\n",
        "\n",
        "  return gp"
      ]
    },
    {
      "attachments": {},
      "cell_type": "markdown",
      "metadata": {
        "id": "IkqCkxuZsa9E"
      },
      "source": [
        "Main Train Loop"
      ]
    },
    {
      "attachments": {},
      "cell_type": "markdown",
      "metadata": {
        "id": "z_5szAwtF4bH"
      },
      "source": []
    },
    {
      "cell_type": "code",
      "execution_count": null,
      "metadata": {
        "colab": {
          "base_uri": "https://localhost:8080/"
        },
        "id": "1kfnoxKn6TJv",
        "outputId": "01d99ca1-dfff-4b03-df1b-4c0525d5ddc8"
      },
      "outputs": [
        {
          "name": "stdout",
          "output_type": "stream",
          "text": [
            "Loaded checkpoint\n"
          ]
        }
      ],
      "source": [
        "load_checkpoint('wgan_v3_LeakyRELUgen_mnist_aug_600')"
      ]
    },
    {
      "cell_type": "code",
      "execution_count": null,
      "metadata": {
        "colab": {
          "base_uri": "https://localhost:8080/",
          "height": 1000
        },
        "id": "i-fqv7ADsZjR",
        "outputId": "f3ae78d3-a75d-45f3-d7b7-a1036183f0b3"
      },
      "outputs": [],
      "source": [
        "gen_loss = []\n",
        "disc_loss = []#\n",
        "\n",
        "gen_losses=[]\n",
        "crit_losses=[]\n",
        "crit_cycles = 1\n",
        "random = 1\n",
        "\n",
        "total_steps = int(trainset_1.__len__() / batch_size)\n",
        "print_step = int(total_steps / 4) - 2\n",
        "inf_step = int(total_steps / 4 ) - 2\n",
        "\n",
        "for epoch in tqdm(range(1000)):\n",
        "  cur_step = 0\n",
        "  g_loss = 0\n",
        "\n",
        "  for real, _ in trainloader:\n",
        "\n",
        "    real = real.to(device)\n",
        "    #labels = labels.to(device)\n",
        "    cur_bs = int(len(real))\n",
        "\n",
        "    # Discriminator Training\n",
        "    mean_crit_loss = 0\n",
        "    for _ in range(crit_cycles):\n",
        "      # 1. set zero gradients\n",
        "      crit_opt.zero_grad()\n",
        "\n",
        "      # 2. get predictions\n",
        "      noise = gen_noise(cur_bs, noise_dim, device)\n",
        "      fake = gen(noise)\n",
        "\n",
        "      crit_real_pred = crit(real)\n",
        "      crit_fake_pred = crit(fake.detach())  # or labels ?\n",
        "\n",
        "      alpha = torch.rand(len(real), 1, 1, 1, device=device, requires_grad=True)\n",
        "      #gp = get_gp(real, fake.detach(), labels, crit, alpha, gamma=10)\n",
        "      gamma= 10\n",
        "      gp = get_gp(real, fake.detach(), crit, alpha, gamma)\n",
        "      c_f_d = crit_fake_pred.mean()\n",
        "      c_r_d = crit_real_pred.mean()\n",
        "\n",
        "      #c_f_d.backward()\n",
        "      #c_r_d.backward()\n",
        "      #gp.backward()\n",
        "      #crit_loss = crit_fake_pred.mean() - crit_real_pred.mean() + gp\n",
        "      crit_loss = c_f_d - c_r_d + gp + (0.001 * torch.mean(crit_real_pred ** 2))  # with drift\n",
        "      crit_loss.backward()\n",
        "\n",
        "      mean_crit_loss+=crit_loss.item() / crit_cycles\n",
        "\n",
        "      #crit_loss.backward(retain_graph=True)\n",
        "      crit_opt.step()\n",
        "\n",
        "    crit_losses+=[mean_crit_loss]\n",
        "\n",
        "    # Generator training\n",
        "\n",
        "    # 1. set gradients to zero\n",
        "    gen_opt.zero_grad()\n",
        "\n",
        "    # 2. get generated image\n",
        "    noise = gen_noise(cur_bs, noise_dim, device)\n",
        "    fake = gen(noise)\n",
        "\n",
        "    crit_fake_pred = crit(fake)\n",
        "\n",
        "    # 3. update weights\n",
        "    gen_loss = -crit_fake_pred.mean()\n",
        "    gen_loss.backward()\n",
        "    gen_opt.step()\n",
        "\n",
        "    gen_losses+=[gen_loss.item()]\n",
        "\n",
        "    # Loss Log\n",
        "    show_step = 35\n",
        "    if epoch % 100 == 0 and epoch > 0:\n",
        "\n",
        "        gen_mean=sum(gen_losses[-show_step:]) / show_step\n",
        "        crit_mean = sum(crit_losses[-show_step:]) / show_step\n",
        "        print(f\"Epoch: {epoch}: Step {cur_step}: Generator loss: {gen_mean}, critic loss: {crit_mean}\")\n",
        "\n",
        "    if epoch % 100 == 0 and epoch > 0:\n",
        "      generated = gen(test_z)\n",
        "      show(generated, 10)\n",
        "\n",
        "    if epoch % 100 == 0 and epoch > 0:\n",
        "      plt.plot(\n",
        "            range(len(gen_losses)),\n",
        "            torch.Tensor(gen_losses),\n",
        "            label=\"Generator Loss\"\n",
        "        )\n",
        "\n",
        "      plt.plot(\n",
        "            range(len(gen_losses)),\n",
        "            torch.Tensor(crit_losses),\n",
        "            label = 'Critic Loss'\n",
        "        )\n",
        "      y1=max(crit_losses)\n",
        "      y2=max(gen_losses)\n",
        "      y=max(y1, y2) + 10\n",
        "\n",
        "      plt.ylim(-y,y)\n",
        "      plt.legend()\n",
        "      plt.show()\n",
        "\n",
        "    if epoch % 100 == 0 and epoch > 0:\n",
        "      name = f'wgan_{epoch}'\n",
        "      save_checkpoint(name)\n",
        "\n",
        "    cur_step += 1"
      ]
    },
    {
      "cell_type": "code",
      "execution_count": null,
      "metadata": {
        "colab": {
          "base_uri": "https://localhost:8080/"
        },
        "id": "Zm__zD505jPo",
        "outputId": "c4f632ce-6d96-4010-b1b3-3e16d3822c78"
      },
      "outputs": [],
      "source": [
        "save_checkpoint('wgan_v3')"
      ]
    },
    {
      "cell_type": "code",
      "execution_count": null,
      "metadata": {
        "colab": {
          "base_uri": "https://localhost:8080/"
        },
        "id": "I1MMJ4gf96SN",
        "outputId": "23e4c81e-759c-47b6-9738-007d690d9cbc"
      },
      "outputs": [],
      "source": [
        "\n",
        "load_checkpoint('wgan_v3')"
      ]
    },
    {
      "cell_type": "code",
      "execution_count": null,
      "metadata": {
        "colab": {
          "base_uri": "https://localhost:8080/",
          "height": 469
        },
        "id": "WHbzcRld5jWb",
        "outputId": "27272775-87b5-4f07-9229-f1a3c135262f"
      },
      "outputs": [
        {
          "name": "stderr",
          "output_type": "stream",
          "text": [
            "WARNING:matplotlib.image:Clipping input data to the valid range for imshow with RGB data ([0..1] for floats or [0..255] for integers).\n"
          ]
        },
        {
          "data": {
            "image/png": "[encoded data removed]",
            "text/plain": [
              "<Figure size 640x480 with 1 Axes>"
            ]
          },
          "metadata": {},
          "output_type": "display_data"
        },
        {
          "data": {
            "text/plain": [
              "tensor(0.2875, device='cuda:0', grad_fn=<StdBackward0>)"
            ]
          },
          "execution_count": 25,
          "metadata": {},
          "output_type": "execute_result"
        }
      ],
      "source": [
        "noise = gen_noise(16, noise_dim, device)\n",
        "generated = gen(noise)\n",
        "generated = torch.nn.functional.adaptive_avg_pool2d(generated, output_size=28)\n",
        "show(generated, 16)\n",
        "torch.std(generated)"
      ]
    },
    {
      "cell_type": "code",
      "execution_count": null,
      "metadata": {
        "colab": {
          "base_uri": "https://localhost:8080/",
          "height": 236
        },
        "id": "Kt8NKCgo6HPh",
        "outputId": "bebef0c8-5a66-44a7-958c-707e212c426f"
      },
      "outputs": [],
      "source": [
        "from torchvision.utils import save_image\n",
        "\n",
        "for i in range(0, 10):\n",
        " noise = gen_noise(1, noise_dim, device)\n",
        " generated = gen(noise)\n",
        " generated = torch.nn.functional.adaptive_avg_pool2d(generated, output_size=28)\n",
        " name = f'{i}.png'\n",
        " save_image(generated, f'/content/drive/MyDrive/generated_mnist_aug3/{name}')"
      ]
    }
  ],
  "metadata": {
    "accelerator": "GPU",
    "colab": {
      "provenance": []
    },
    "gpuClass": "standard",
    "kernelspec": {
      "display_name": "Python 3",
      "name": "python3"
    },
    "language_info": {
      "name": "python"
    }
  },
  "nbformat": 4,
  "nbformat_minor": 0
}
