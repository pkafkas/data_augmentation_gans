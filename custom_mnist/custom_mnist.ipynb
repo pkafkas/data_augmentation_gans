{
  "nbformat": 4,
  "nbformat_minor": 0,
  "metadata": {
    "colab": {
      "provenance": []
    },
    "kernelspec": {
      "name": "python3",
      "display_name": "Python 3"
    },
    "language_info": {
      "name": "python"
    }
  },
  "cells": [
    {
      "cell_type": "code",
      "execution_count": null,
      "metadata": {
        "id": "6ESwURTTYV0w"
      },
      "outputs": [],
      "source": [
        "# 1. Imports\n",
        "import torch, torchvision, os, PIL, pdb\n",
        "import torch.nn as nn\n",
        "from torchvision import transforms, datasets\n",
        "from torch.utils.data import Dataset, DataLoader\n",
        "import matplotlib.pyplot as plt\n",
        "from torchvision.utils import make_grid\n",
        "from tqdm import tqdm\n",
        "import numpy as np\n",
        "from PIL import Image\n",
        "import pandas as pd\n",
        "import gdown, zipfile\n",
        "from math import ceil"
      ]
    },
    {
      "cell_type": "code",
      "source": [
        "# 2. Helper functions\n",
        "\n",
        "def getDevice():\n",
        "  if torch.cuda.is_available():\n",
        "    device = 'cuda'\n",
        "  else:\n",
        "    device = 'cpu'\n",
        "  return device\n",
        "\n",
        "def denorm(img_tensors):\n",
        "    \"Denormalize image tensor with specified mean and std\"\n",
        "    return img_tensors * stats[1][0] + stats[0][0]\n",
        "\n",
        "def show(tensor, num):\n",
        "  data = tensor.detach().cpu()\n",
        "  #grid = make_grid(denorm(data[:num]), nrow=4).permute(1,2,0)\n",
        "  grid = make_grid(data[:num], nrow=4).permute(1,2,0)\n",
        "  plt.imshow(grid) #.clip(0,1)\n",
        "  plt.show()"
      ],
      "metadata": {
        "id": "9l2m2xBNYb06"
      },
      "execution_count": null,
      "outputs": []
    },
    {
      "cell_type": "code",
      "source": [
        "device = getDevice()\n",
        "noise_dim = 128\n",
        "#label_dim = 2\n",
        "batch_size = 256\n",
        "img_size = 64\n",
        "img_dim = (img_size, img_size)\n",
        "img_ch = 1 # greyscale\n",
        "#lr = 1e-4\n",
        "epochs = 100\n",
        "save_step = 900\n",
        "#embed_size = 100\n",
        "\n",
        "\n",
        "# Hyperparameters\n",
        "lr = 0.00025\n",
        "\n",
        "# logging\n",
        "wandbact = 0\n",
        "\n",
        "stats = (0.1307,), (0.3081,)"
      ],
      "metadata": {
        "id": "2u2U-0bLYdmp"
      },
      "execution_count": null,
      "outputs": []
    },
    {
      "cell_type": "code",
      "source": [
        "# 1. Dataset Class\n",
        "class MyDataset(Dataset):\n",
        "  def __init__(self,remove_list, transform = None, train=True):\n",
        "    self.mnist = datasets.MNIST(root='./data',\n",
        "                                download=True,\n",
        "                                train=train,\n",
        "                                transform=transform)\n",
        "    self.data = self.mnist.data\n",
        "    self.targets = self.mnist.targets\n",
        "    self.transform = transform\n",
        "    mask = np.ones(len(self.data), dtype=bool)\n",
        "    mask[remove_list] = False\n",
        "\n",
        "    self.data = self.data[mask]\n",
        "    self.targets = self.targets[mask]\n",
        "\n",
        "  def __getitem__(self, index):\n",
        "    data, target = self.data[index], self.targets[index]\n",
        "    data = self.transform(np.array(data))\n",
        "    return data, target\n",
        "\n",
        "  def __len__(self):\n",
        "    return len(self.data)\n",
        "\n",
        "transformation = transforms.Compose([\n",
        "    transforms.ToTensor(),\n",
        "    transforms.Resize([img_size, img_size]),\n",
        "    #transforms.Normalize((mean_gray,),(stdd_gray,))\n",
        "])\n",
        "\n",
        "train_dataset = datasets.MNIST(\n",
        "    root = 'data',\n",
        "    download = True,\n",
        "    train = True,\n",
        "    transform = transformation\n",
        ")\n",
        "\n",
        "test_dataset = datasets.MNIST(\n",
        "    root = 'data',\n",
        "    train = False,\n",
        "    transform = transformation\n",
        ")"
      ],
      "metadata": {
        "colab": {
          "base_uri": "https://localhost:8080/"
        },
        "id": "sLf8JR2VYfpS",
        "outputId": "7e34349c-2c99-4140-9ffd-4339a4bacd43"
      },
      "execution_count": null,
      "outputs": [
        {
          "output_type": "stream",
          "name": "stdout",
          "text": [
            "Downloading http://yann.lecun.com/exdb/mnist/train-images-idx3-ubyte.gz\n",
            "Downloading http://yann.lecun.com/exdb/mnist/train-images-idx3-ubyte.gz to data/MNIST/raw/train-images-idx3-ubyte.gz\n"
          ]
        },
        {
          "output_type": "stream",
          "name": "stderr",
          "text": [
            "100%|██████████| 9912422/9912422 [00:00<00:00, 68396628.25it/s]\n"
          ]
        },
        {
          "output_type": "stream",
          "name": "stdout",
          "text": [
            "Extracting data/MNIST/raw/train-images-idx3-ubyte.gz to data/MNIST/raw\n",
            "\n",
            "Downloading http://yann.lecun.com/exdb/mnist/train-labels-idx1-ubyte.gz\n",
            "Downloading http://yann.lecun.com/exdb/mnist/train-labels-idx1-ubyte.gz to data/MNIST/raw/train-labels-idx1-ubyte.gz\n"
          ]
        },
        {
          "output_type": "stream",
          "name": "stderr",
          "text": [
            "100%|██████████| 28881/28881 [00:00<00:00, 30909847.88it/s]\n"
          ]
        },
        {
          "output_type": "stream",
          "name": "stdout",
          "text": [
            "Extracting data/MNIST/raw/train-labels-idx1-ubyte.gz to data/MNIST/raw\n",
            "\n",
            "Downloading http://yann.lecun.com/exdb/mnist/t10k-images-idx3-ubyte.gz\n",
            "Downloading http://yann.lecun.com/exdb/mnist/t10k-images-idx3-ubyte.gz to data/MNIST/raw/t10k-images-idx3-ubyte.gz\n"
          ]
        },
        {
          "output_type": "stream",
          "name": "stderr",
          "text": [
            "100%|██████████| 1648877/1648877 [00:00<00:00, 23320771.51it/s]\n"
          ]
        },
        {
          "output_type": "stream",
          "name": "stdout",
          "text": [
            "Extracting data/MNIST/raw/t10k-images-idx3-ubyte.gz to data/MNIST/raw\n",
            "\n",
            "Downloading http://yann.lecun.com/exdb/mnist/t10k-labels-idx1-ubyte.gz\n",
            "Downloading http://yann.lecun.com/exdb/mnist/t10k-labels-idx1-ubyte.gz to data/MNIST/raw/t10k-labels-idx1-ubyte.gz\n"
          ]
        },
        {
          "output_type": "stream",
          "name": "stderr",
          "text": [
            "100%|██████████| 4542/4542 [00:00<00:00, 12582912.00it/s]"
          ]
        },
        {
          "output_type": "stream",
          "name": "stdout",
          "text": [
            "Extracting data/MNIST/raw/t10k-labels-idx1-ubyte.gz to data/MNIST/raw\n",
            "\n"
          ]
        },
        {
          "output_type": "stream",
          "name": "stderr",
          "text": [
            "\n"
          ]
        }
      ]
    },
    {
      "cell_type": "code",
      "source": [
        "# remove from mnist all non fives\n",
        "rem_idx_one = ((train_dataset.targets != 5).nonzero(as_tuple=True)[0])\n",
        "print(rem_idx_one.shape)\n",
        "\n",
        "#### USe Only when data augmenting\n",
        "transformation3 = transforms.Compose([\n",
        "    transforms.ToTensor(),\n",
        "    transforms.RandomRotation(10),\n",
        "    transforms.RandomResizedCrop(img_size, scale=(0.85, 1.0), ratio=(0.75, 1.3333333333333333)),\n",
        "    transforms.Resize([img_size, img_size]),\n",
        "])\n",
        "\n",
        "traindat_fives = MyDataset(rem_idx_one, transformation3, True)\n",
        "print(len(traindat_fives))\n",
        "\n",
        "# create reduced subset\n",
        "\n",
        "remove_idx = ((traindat_fives.targets == 5).nonzero(as_tuple=True)[0])\n",
        "num = remove_idx.shape[0]\n",
        "num = ceil(0.99 * num)\n",
        "print(f'num {num}')\n",
        "\n",
        "to_remove = remove_idx[:num]\n",
        "to_keep = remove_idx[num:]\n",
        "print(f'remove_idx.shape {to_keep.shape}')\n",
        "\n",
        "trainset_1 = torch.utils.data.Subset(traindat_fives, to_keep)"
      ],
      "metadata": {
        "colab": {
          "base_uri": "https://localhost:8080/"
        },
        "id": "BFxYID_SYtaL",
        "outputId": "a30e33f2-1c0d-486f-efec-6151ff6aa7e5"
      },
      "execution_count": null,
      "outputs": [
        {
          "output_type": "stream",
          "name": "stdout",
          "text": [
            "torch.Size([54579])\n",
            "5421\n",
            "num 5367\n",
            "remove_idx.shape torch.Size([54])\n"
          ]
        }
      ]
    },
    {
      "cell_type": "code",
      "source": [
        "# 4. Dataset Initialization\n",
        "batch_size = 32\n",
        "\n",
        "trainloader = DataLoader(\n",
        "    #dataset = train_dataset,\n",
        "    dataset = trainset_1,\n",
        "    batch_size = batch_size,\n",
        "    shuffle = True\n",
        ")\n",
        "\n",
        "print(len(trainloader))\n",
        "print(len(trainset_1))\n",
        "# dataset visualization\n",
        "ha, labels = next(iter(trainloader))\n",
        "show(ha, 4)"
      ],
      "metadata": {
        "colab": {
          "base_uri": "https://localhost:8080/",
          "height": 227
        },
        "id": "QHcAVOaWY1xT",
        "outputId": "c5041fcc-c209-44e3-a358-559f5793d4db"
      },
      "execution_count": null,
      "outputs": [
        {
          "output_type": "stream",
          "name": "stdout",
          "text": [
            "2\n",
            "54\n"
          ]
        },
        {
          "output_type": "display_data",
          "data": {
            "text/plain": [
              "<Figure size 640x480 with 1 Axes>"
            ],
            "image/png": "[encoded data removed]"
          },
          "metadata": {}
        }
      ]
    },
    {
      "cell_type": "markdown",
      "source": [
        "save the above aumented images"
      ],
      "metadata": {
        "id": "YjsBqvhCY3uz"
      }
    },
    {
      "cell_type": "code",
      "source": [
        "from torchvision.utils import save_image\n",
        "\n",
        "num_imgs = 0\n",
        "j = 0\n",
        "while num_imgs < 150:\n",
        "  data, _ = next(iter(trainloader))\n",
        "  #show(data, batch_size)\n",
        "\n",
        "  for i in range(len(data)):\n",
        "    img = data[i]\n",
        "    img = torch.nn.functional.adaptive_avg_pool2d(img, output_size=28)\n",
        "    #show(img, 1)\n",
        "    name = f'{j}{i}.png'\n",
        "    save_image(img, f'/content/drive/MyDrive/generated_mnist_aug3/{name}')\n",
        "\n",
        "  num_imgs += batch_size\n",
        "  j += 1"
      ],
      "metadata": {
        "colab": {
          "base_uri": "https://localhost:8080/"
        },
        "id": "R7NnU4dMY6sj",
        "outputId": "f431f5de-f0c5-4631-9249-0af511ed71f2"
      },
      "execution_count": null,
      "outputs": [
        {
          "output_type": "stream",
          "name": "stderr",
          "text": [
            "/usr/local/lib/python3.10/dist-packages/torchvision/transforms/functional.py:1603: UserWarning: The default value of the antialias parameter of all the resizing transforms (Resize(), RandomResizedCrop(), etc.) will change from None to True in v0.17, in order to be consistent across the PIL and Tensor backends. To suppress this warning, directly pass antialias=True (recommended, future default), antialias=None (current default, which means False for Tensors and True for PIL), or antialias=False (only works on Tensors - PIL will still use antialiasing). This also applies if you are using the inference transforms from the models weights: update the call to weights.transforms(antialias=True).\n",
            "  warnings.warn(\n"
          ]
        }
      ]
    }
  ]
}